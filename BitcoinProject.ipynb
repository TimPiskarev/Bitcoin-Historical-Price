{
 "cells": [
  {
   "cell_type": "markdown",
   "id": "698c653d",
   "metadata": {},
   "source": [
    "## Bitcoin Historical Price"
   ]
  },
  {
   "cell_type": "markdown",
   "id": "7d48c584",
   "metadata": {},
   "source": [
    "### Uploading libraries and data:"
   ]
  },
  {
   "cell_type": "code",
   "execution_count": 3,
   "id": "9eacd35a",
   "metadata": {},
   "outputs": [],
   "source": [
    "import pandas as pd\n",
    "import numpy as np\n",
    "%matplotlib inline\n",
    "import matplotlib.pyplot as plt\n",
    "import matplotlib.ticker as mticker\n",
    "from mplfinance.original_flavor import candlestick_ohlc\n",
    "import matplotlib.dates as mpl_dates\n",
    "import seaborn as sns\n",
    "import matplotlib as mpl"
   ]
  },
  {
   "cell_type": "code",
   "execution_count": 5,
   "id": "81868e3e",
   "metadata": {},
   "outputs": [],
   "source": [
    "data = pd.read_csv('C:/Users/1/Downloads./coin_Bitcoin.csv')"
   ]
  },
  {
   "cell_type": "code",
   "execution_count": 6,
   "id": "f7aeed40",
   "metadata": {},
   "outputs": [
    {
     "data": {
      "text/html": [
       "<div>\n",
       "<style scoped>\n",
       "    .dataframe tbody tr th:only-of-type {\n",
       "        vertical-align: middle;\n",
       "    }\n",
       "\n",
       "    .dataframe tbody tr th {\n",
       "        vertical-align: top;\n",
       "    }\n",
       "\n",
       "    .dataframe thead th {\n",
       "        text-align: right;\n",
       "    }\n",
       "</style>\n",
       "<table border=\"1\" class=\"dataframe\">\n",
       "  <thead>\n",
       "    <tr style=\"text-align: right;\">\n",
       "      <th></th>\n",
       "      <th>SNo</th>\n",
       "      <th>Name</th>\n",
       "      <th>Symbol</th>\n",
       "      <th>Date</th>\n",
       "      <th>High</th>\n",
       "      <th>Low</th>\n",
       "      <th>Open</th>\n",
       "      <th>Close</th>\n",
       "      <th>Volume</th>\n",
       "      <th>Marketcap</th>\n",
       "    </tr>\n",
       "  </thead>\n",
       "  <tbody>\n",
       "    <tr>\n",
       "      <th>0</th>\n",
       "      <td>1</td>\n",
       "      <td>Bitcoin</td>\n",
       "      <td>BTC</td>\n",
       "      <td>2013-04-29 23:59:59</td>\n",
       "      <td>147.488007</td>\n",
       "      <td>134.000000</td>\n",
       "      <td>134.444000</td>\n",
       "      <td>144.539993</td>\n",
       "      <td>0.0</td>\n",
       "      <td>1.603769e+09</td>\n",
       "    </tr>\n",
       "    <tr>\n",
       "      <th>1</th>\n",
       "      <td>2</td>\n",
       "      <td>Bitcoin</td>\n",
       "      <td>BTC</td>\n",
       "      <td>2013-04-30 23:59:59</td>\n",
       "      <td>146.929993</td>\n",
       "      <td>134.050003</td>\n",
       "      <td>144.000000</td>\n",
       "      <td>139.000000</td>\n",
       "      <td>0.0</td>\n",
       "      <td>1.542813e+09</td>\n",
       "    </tr>\n",
       "    <tr>\n",
       "      <th>2</th>\n",
       "      <td>3</td>\n",
       "      <td>Bitcoin</td>\n",
       "      <td>BTC</td>\n",
       "      <td>2013-05-01 23:59:59</td>\n",
       "      <td>139.889999</td>\n",
       "      <td>107.720001</td>\n",
       "      <td>139.000000</td>\n",
       "      <td>116.989998</td>\n",
       "      <td>0.0</td>\n",
       "      <td>1.298955e+09</td>\n",
       "    </tr>\n",
       "    <tr>\n",
       "      <th>3</th>\n",
       "      <td>4</td>\n",
       "      <td>Bitcoin</td>\n",
       "      <td>BTC</td>\n",
       "      <td>2013-05-02 23:59:59</td>\n",
       "      <td>125.599998</td>\n",
       "      <td>92.281898</td>\n",
       "      <td>116.379997</td>\n",
       "      <td>105.209999</td>\n",
       "      <td>0.0</td>\n",
       "      <td>1.168517e+09</td>\n",
       "    </tr>\n",
       "    <tr>\n",
       "      <th>4</th>\n",
       "      <td>5</td>\n",
       "      <td>Bitcoin</td>\n",
       "      <td>BTC</td>\n",
       "      <td>2013-05-03 23:59:59</td>\n",
       "      <td>108.127998</td>\n",
       "      <td>79.099998</td>\n",
       "      <td>106.250000</td>\n",
       "      <td>97.750000</td>\n",
       "      <td>0.0</td>\n",
       "      <td>1.085995e+09</td>\n",
       "    </tr>\n",
       "  </tbody>\n",
       "</table>\n",
       "</div>"
      ],
      "text/plain": [
       "   SNo     Name Symbol                 Date        High         Low  \\\n",
       "0    1  Bitcoin    BTC  2013-04-29 23:59:59  147.488007  134.000000   \n",
       "1    2  Bitcoin    BTC  2013-04-30 23:59:59  146.929993  134.050003   \n",
       "2    3  Bitcoin    BTC  2013-05-01 23:59:59  139.889999  107.720001   \n",
       "3    4  Bitcoin    BTC  2013-05-02 23:59:59  125.599998   92.281898   \n",
       "4    5  Bitcoin    BTC  2013-05-03 23:59:59  108.127998   79.099998   \n",
       "\n",
       "         Open       Close  Volume     Marketcap  \n",
       "0  134.444000  144.539993     0.0  1.603769e+09  \n",
       "1  144.000000  139.000000     0.0  1.542813e+09  \n",
       "2  139.000000  116.989998     0.0  1.298955e+09  \n",
       "3  116.379997  105.209999     0.0  1.168517e+09  \n",
       "4  106.250000   97.750000     0.0  1.085995e+09  "
      ]
     },
     "execution_count": 6,
     "metadata": {},
     "output_type": "execute_result"
    }
   ],
   "source": [
    "data.head()"
   ]
  },
  {
   "cell_type": "markdown",
   "id": "5539fcb5",
   "metadata": {},
   "source": [
    "### Descriptive statistics"
   ]
  },
  {
   "cell_type": "markdown",
   "id": "22a6b157",
   "metadata": {},
   "source": [
    "Doing descriptive statistics I will analyse only the last 2 months of data because the price of Bitcoin increased almost by..."
   ]
  },
  {
   "cell_type": "code",
   "execution_count": 316,
   "id": "ac323a74",
   "metadata": {},
   "outputs": [
    {
     "name": "stdout",
     "output_type": "stream",
     "text": [
      "25083 % for the last 8 years.\n"
     ]
    }
   ],
   "source": [
    "a = data.head(1).Open.mean()\n",
    "b = data.tail(1).Open.mean()\n",
    "difference = int((100 * b) / a)\n",
    "print(difference, '% for the last 8 years.')"
   ]
  },
  {
   "cell_type": "markdown",
   "id": "755a3622",
   "metadata": {},
   "source": [
    "So, finding means, median and standard deviation will be most accurately on the timeframe of 2 months."
   ]
  },
  {
   "cell_type": "markdown",
   "id": "1d47a005",
   "metadata": {},
   "source": [
    "##### 1. Finding the mean of Bitcoin price for the last 2 months:"
   ]
  },
  {
   "cell_type": "code",
   "execution_count": 332,
   "id": "6c34e014",
   "metadata": {},
   "outputs": [
    {
     "name": "stdout",
     "output_type": "stream",
     "text": [
      "The mean of Bitcoin price for the last months is 39699.73187628968 dollars.\n"
     ]
    }
   ],
   "source": [
    "btc_mean = data.tail(62).Open.mean()\n",
    "print('The mean of Bitcoin price for the last months is', btc_mean ,'dollars.')"
   ]
  },
  {
   "cell_type": "markdown",
   "id": "895c2644",
   "metadata": {},
   "source": [
    "##### 2. Finding the median of Bitcoin price for the last 2 months:"
   ]
  },
  {
   "cell_type": "code",
   "execution_count": 333,
   "id": "8d5be3a5",
   "metadata": {
    "scrolled": true
   },
   "outputs": [
    {
     "name": "stdout",
     "output_type": "stream",
     "text": [
      "The median of Bitcoin price for the last months is 37086.974172500006 dollars.\n"
     ]
    }
   ],
   "source": [
    "btc_median = data.tail(62).Open.median()\n",
    "print('The median of Bitcoin price for the last months is', btc_median ,'dollars.')"
   ]
  },
  {
   "cell_type": "markdown",
   "id": "6e14e2ed",
   "metadata": {},
   "source": [
    "##### 3. Finding the standard deviation of Bitcoin price for the last 2 months:"
   ]
  },
  {
   "cell_type": "code",
   "execution_count": 334,
   "id": "f0c56588",
   "metadata": {},
   "outputs": [
    {
     "name": "stdout",
     "output_type": "stream",
     "text": [
      "The standard deviation of Bitcoin price for the last months is 7537.368524028953 dollars. It is almost 18 % of it's mean price.\n"
     ]
    }
   ],
   "source": [
    "btc_std = data.tail(62).Open.std()\n",
    "print('The standard deviation of Bitcoin price for the last months is', btc_std ,'dollars. It is almost', int((btc_std / btc_mean)*100), \"% of it's mean price.\")"
   ]
  },
  {
   "cell_type": "markdown",
   "id": "0a2b9da6",
   "metadata": {},
   "source": [
    "##### Result:\n",
    "The index of the standard deviation of Bitcoin, which reached almost 18 % of BTC mean price, shows us that Bitcoin is a highly volatile and risky asset even in such a long timeframe. Therefore, by doing descriptive statistics one can assess his / her risks and decide to invest or not in cryptocurrency."
   ]
  },
  {
   "cell_type": "markdown",
   "id": "d72c2e76",
   "metadata": {},
   "source": [
    "### Creating charts"
   ]
  },
  {
   "cell_type": "markdown",
   "id": "7e971a5b",
   "metadata": {},
   "source": [
    "##### 1. Creating regular plot:"
   ]
  },
  {
   "cell_type": "markdown",
   "id": "306c89e7",
   "metadata": {},
   "source": [
    "Let's check the price changes of BTC on the picture."
   ]
  },
  {
   "cell_type": "code",
   "execution_count": 558,
   "id": "15e0c368",
   "metadata": {},
   "outputs": [],
   "source": [
    "# Extracting Data for plotting\n",
    "btc_chart = data.loc[:, ['Date', 'Open', 'High', 'Low', 'Close']]\n",
    "btc_chart['Date'] = pd.to_datetime(btc_chart['Date'])\n",
    "btc_chart['Date'] = btc_chart['Date'].apply(mpl_dates.date2num)\n",
    "btc_chart = btc_chart.astype(float)"
   ]
  },
  {
   "cell_type": "code",
   "execution_count": 559,
   "id": "347641e6",
   "metadata": {},
   "outputs": [
    {
     "data": {
      "image/png": "[encoded data removed]",
      "text/plain": [
       "<Figure size 432x288 with 1 Axes>"
      ]
     },
     "metadata": {
      "needs_background": "light"
     },
     "output_type": "display_data"
    }
   ],
   "source": [
    "# Setting labels & titles and exporting the plot\n",
    "plt.title(\"Bitcoin Price History\");\n",
    "plt.xlabel(\"Date\", fontsize=12);\n",
    "plt.ylabel(\"Price in USD\", fontsize=12);\n",
    "sns.lineplot(x=\"Date\", y=\"Open\", data=btc_chart);"
   ]
  },
  {
   "cell_type": "markdown",
   "id": "be46fcd5",
   "metadata": {},
   "source": [
    "**Chart analysis:** The Regular plot shows how the price of Bitcoin has changed over the years (from 2013 to 2021). And It's also easy to see and make sure that this asset is highly volatile as mentioned earlier."
   ]
  },
  {
   "cell_type": "markdown",
   "id": "bce095cc",
   "metadata": {},
   "source": [
    "##### 2. Creating scatter plot:"
   ]
  },
  {
   "cell_type": "markdown",
   "id": "d1a56936",
   "metadata": {},
   "source": [
    "Moreover, one of the most important indexes in trading and analysing markets is volume. It reflects the supply, demand or interest of buyers/sellers to a currency. Let's analyse it."
   ]
  },
  {
   "cell_type": "code",
   "execution_count": 387,
   "id": "fcff45bd",
   "metadata": {},
   "outputs": [
    {
     "data": {
      "image/png": "[encoded data removed]",
      "text/plain": [
       "<Figure size 432x288 with 1 Axes>"
      ]
     },
     "metadata": {},
     "output_type": "display_data"
    }
   ],
   "source": [
    "# Setting labels & titles and exporting the plot\n",
    "data.plot.scatter(x='Volume', y='Open')\n",
    "plt.title(\"Сorrelation of BTC price and Volume\");\n",
    "plt.xlabel(\"Volume in billions of USD\", fontsize=12);\n",
    "plt.ylabel(\"Price in USD\", fontsize=12);"
   ]
  },
  {
   "cell_type": "markdown",
   "id": "3cb18906",
   "metadata": {},
   "source": [
    "**Chart analysis:** The Scatter plot shows that as the price of Bitcoin rises the volume of purchases on the market also grows. It means that people keep accumulating money and believe in this currency despite its high price."
   ]
  },
  {
   "cell_type": "markdown",
   "id": "25c548f3",
   "metadata": {},
   "source": [
    "##### 3. Creating candlestick chart:"
   ]
  },
  {
   "cell_type": "markdown",
   "id": "221b1f63",
   "metadata": {},
   "source": [
    "Traders do not work with such long time frames as considered earlier as they speculate inside a day. Therefore, traders prefer using candlestick charts to see changes in rate closer and try to predict future values or define the trend. Let's take the last month of data to see price changes closer."
   ]
  },
  {
   "cell_type": "code",
   "execution_count": 288,
   "id": "8069c7cc",
   "metadata": {},
   "outputs": [],
   "source": [
    "btc_candle_chart = data.tail(30)"
   ]
  },
  {
   "cell_type": "code",
   "execution_count": 372,
   "id": "10acdd3e",
   "metadata": {},
   "outputs": [
    {
     "data": {
      "image/png": "[encoded data removed]",
      "text/plain": [
       "<Figure size 576x432 with 1 Axes>"
      ]
     },
     "metadata": {},
     "output_type": "display_data"
    }
   ],
   "source": [
    "plt.style.use('ggplot')\n",
    "\n",
    "# Extracting Data for plotting\n",
    "ohlc = btc_candle_chart.loc[:, ['Date', 'Open', 'High', 'Low', 'Close']]\n",
    "ohlc['Date'] = pd.to_datetime(ohlc['Date'])\n",
    "ohlc['Date'] = ohlc['Date'].apply(mpl_dates.date2num)\n",
    "ohlc = ohlc.astype(float)\n",
    "\n",
    "# Creating Subplots\n",
    "fig, ax = plt.subplots()\n",
    "candlestick_ohlc(ax, ohlc.values, width=0.5, colorup='green', colordown='red', alpha=0.7);\n",
    "\n",
    "# Setting labels & titles\n",
    "ax.set_xlabel(\"Date\", fontsize=12)\n",
    "ax.set_ylabel(\"Price in USD\", fontsize=12)\n",
    "fig.suptitle(\"Candlestick chart for Bitcoin\", fontsize=15);\n",
    "\n",
    "# Formatting Date\n",
    "date_format = mpl_dates.DateFormatter('%d-%m-%Y')\n",
    "ax.xaxis.set_major_formatter(date_format)\n",
    "fig.autofmt_xdate()\n",
    "fig.tight_layout()\n",
    "fig.set_size_inches(8, 6)"
   ]
  },
  {
   "cell_type": "markdown",
   "id": "a0746050",
   "metadata": {},
   "source": [
    "**Chart analysis:** The Candlestick chart shows change of course in all details. For instance, the third candlestick from the left is bullish candle stick, it means that demand outperformed supply and market moved the price up from it's low (around 32,000) to it's high (around 35,000) that day. These changes can be shown only on such charts."
   ]
  },
  {
   "cell_type": "markdown",
   "id": "a35f5da7",
   "metadata": {},
   "source": [
    "### Comparisons"
   ]
  },
  {
   "cell_type": "markdown",
   "id": "c87cf9c7",
   "metadata": {},
   "source": [
    "##### 1. Comparing volume and price of BTC:"
   ]
  },
  {
   "cell_type": "code",
   "execution_count": 449,
   "id": "d4719dfe",
   "metadata": {},
   "outputs": [],
   "source": [
    "# Extracting Data for plotting\n",
    "btc_comparing = data.loc[:, ['Date', 'Open', 'Volume']]\n",
    "btc_comparing['Date'] = pd.to_datetime(btc_comparing['Date'])\n",
    "btc_comparing['Date'] = btc_comparing['Date'].apply(mpl_dates.date2num)\n",
    "btc_comparing = btc_comparing.astype(float)\n",
    "btc_comparing = btc_comparing.tail(200)"
   ]
  },
  {
   "cell_type": "code",
   "execution_count": 482,
   "id": "58ddac0e",
   "metadata": {},
   "outputs": [
    {
     "data": {
      "image/png": "[encoded data removed]",
      "text/plain": [
       "<Figure size 720x720 with 2 Axes>"
      ]
     },
     "metadata": {
      "needs_background": "light"
     },
     "output_type": "display_data"
    }
   ],
   "source": [
    "# Creating 2 charts\n",
    "rig, ay = plt.subplots()\n",
    "ax2 = ay.twinx()\n",
    "sns.lineplot(x='Date', y='Open', data=btc_comparing, ax=ax2, color='black')\n",
    "sns.histplot(x='Date', y='Volume',palette=\"light:m_r\", data=btc_comparing, ax=ay, edgecolor=\".8\", linewidth=.10)\n",
    "rig.set_size_inches(10, 10)\n",
    "\n",
    "# Setting labels & titles\n",
    "plt.title(\"Correlation of price and Volume\");\n",
    "plt.xlabel(\"Date\", fontsize=16);\n",
    "plt.ylabel(\"Price in USD\", fontsize=12);"
   ]
  },
  {
   "cell_type": "markdown",
   "id": "8e80d788",
   "metadata": {},
   "source": [
    "**Chart analysis:** This chart shows how price of asset and volume correlate. We can notice that during periods when the rate \n",
    "quickly changed its value the volume concomitantly reacted on trend changes (3rd and 7th columns from the left). It means that during these periods people were trying to buy or sell their coins as soon as possible thereby causing panic on markets."
   ]
  },
  {
   "cell_type": "markdown",
   "id": "0419b98d",
   "metadata": {},
   "source": [
    "##### 2. Comparing days of weeks and changes of price:"
   ]
  },
  {
   "cell_type": "markdown",
   "id": "3411f812",
   "metadata": {},
   "source": [
    "Analysing this data, let's find the most volatile days in a week for cryptomarkets."
   ]
  },
  {
   "cell_type": "code",
   "execution_count": 554,
   "id": "790d8f6e",
   "metadata": {},
   "outputs": [],
   "source": [
    "# Naming each day\n",
    "btc_assump = data\n",
    "btc_assump['Day of the Week'] = pd.to_datetime(btc_assump['Date']).dt.day_name()\n",
    "\n",
    "# Counting Up-days and Down-days\n",
    "btc_assump['Up'] = np.where((btc_assump.Open < btc_assump.Close), 1, 0)\n",
    "btc_assump['Down'] = np.where((btc_assump.Open > btc_assump.Close), 1, 0)\n",
    "btc_assumption = btc_assump.loc[:, ['Day of the Week', 'Up', 'Down']]\n",
    "btc_up = btc_assumption.groupby('Day of the Week').aggregate({'Up':'sum'})\n",
    "btc_down = btc_assumption.groupby('Day of the Week').aggregate({'Down':'sum'})"
   ]
  },
  {
   "cell_type": "code",
   "execution_count": 556,
   "id": "a5a822b3",
   "metadata": {},
   "outputs": [
    {
     "data": {
      "text/html": [
       "<div>\n",
       "<style scoped>\n",
       "    .dataframe tbody tr th:only-of-type {\n",
       "        vertical-align: middle;\n",
       "    }\n",
       "\n",
       "    .dataframe tbody tr th {\n",
       "        vertical-align: top;\n",
       "    }\n",
       "\n",
       "    .dataframe thead th {\n",
       "        text-align: right;\n",
       "    }\n",
       "</style>\n",
       "<table border=\"1\" class=\"dataframe\">\n",
       "  <thead>\n",
       "    <tr style=\"text-align: right;\">\n",
       "      <th></th>\n",
       "      <th>Up</th>\n",
       "    </tr>\n",
       "    <tr>\n",
       "      <th>Day of the Week</th>\n",
       "      <th></th>\n",
       "    </tr>\n",
       "  </thead>\n",
       "  <tbody>\n",
       "    <tr>\n",
       "      <th>Friday</th>\n",
       "      <td>238</td>\n",
       "    </tr>\n",
       "    <tr>\n",
       "      <th>Monday</th>\n",
       "      <td>233</td>\n",
       "    </tr>\n",
       "    <tr>\n",
       "      <th>Saturday</th>\n",
       "      <td>244</td>\n",
       "    </tr>\n",
       "    <tr>\n",
       "      <th>Sunday</th>\n",
       "      <td>220</td>\n",
       "    </tr>\n",
       "    <tr>\n",
       "      <th>Thursday</th>\n",
       "      <td>222</td>\n",
       "    </tr>\n",
       "    <tr>\n",
       "      <th>Tuesday</th>\n",
       "      <td>231</td>\n",
       "    </tr>\n",
       "    <tr>\n",
       "      <th>Wednesday</th>\n",
       "      <td>221</td>\n",
       "    </tr>\n",
       "  </tbody>\n",
       "</table>\n",
       "</div>"
      ],
      "text/plain": [
       "                  Up\n",
       "Day of the Week     \n",
       "Friday           238\n",
       "Monday           233\n",
       "Saturday         244\n",
       "Sunday           220\n",
       "Thursday         222\n",
       "Tuesday          231\n",
       "Wednesday        221"
      ]
     },
     "execution_count": 556,
     "metadata": {},
     "output_type": "execute_result"
    }
   ],
   "source": [
    "btc_up"
   ]
  },
  {
   "cell_type": "code",
   "execution_count": 557,
   "id": "1fcda680",
   "metadata": {},
   "outputs": [
    {
     "data": {
      "text/html": [
       "<div>\n",
       "<style scoped>\n",
       "    .dataframe tbody tr th:only-of-type {\n",
       "        vertical-align: middle;\n",
       "    }\n",
       "\n",
       "    .dataframe tbody tr th {\n",
       "        vertical-align: top;\n",
       "    }\n",
       "\n",
       "    .dataframe thead th {\n",
       "        text-align: right;\n",
       "    }\n",
       "</style>\n",
       "<table border=\"1\" class=\"dataframe\">\n",
       "  <thead>\n",
       "    <tr style=\"text-align: right;\">\n",
       "      <th></th>\n",
       "      <th>Down</th>\n",
       "    </tr>\n",
       "    <tr>\n",
       "      <th>Day of the Week</th>\n",
       "      <th></th>\n",
       "    </tr>\n",
       "  </thead>\n",
       "  <tbody>\n",
       "    <tr>\n",
       "      <th>Friday</th>\n",
       "      <td>189</td>\n",
       "    </tr>\n",
       "    <tr>\n",
       "      <th>Monday</th>\n",
       "      <td>195</td>\n",
       "    </tr>\n",
       "    <tr>\n",
       "      <th>Saturday</th>\n",
       "      <td>183</td>\n",
       "    </tr>\n",
       "    <tr>\n",
       "      <th>Sunday</th>\n",
       "      <td>207</td>\n",
       "    </tr>\n",
       "    <tr>\n",
       "      <th>Thursday</th>\n",
       "      <td>205</td>\n",
       "    </tr>\n",
       "    <tr>\n",
       "      <th>Tuesday</th>\n",
       "      <td>197</td>\n",
       "    </tr>\n",
       "    <tr>\n",
       "      <th>Wednesday</th>\n",
       "      <td>205</td>\n",
       "    </tr>\n",
       "  </tbody>\n",
       "</table>\n",
       "</div>"
      ],
      "text/plain": [
       "                 Down\n",
       "Day of the Week      \n",
       "Friday            189\n",
       "Monday            195\n",
       "Saturday          183\n",
       "Sunday            207\n",
       "Thursday          205\n",
       "Tuesday           197\n",
       "Wednesday         205"
      ]
     },
     "execution_count": 557,
     "metadata": {},
     "output_type": "execute_result"
    }
   ],
   "source": [
    "btc_down"
   ]
  },
  {
   "cell_type": "markdown",
   "id": "3a90b35b",
   "metadata": {},
   "source": [
    "We can see that on Saturdays and Sundays there are more changes than on other days (on Saturdays price frequently moves up, on Sundays price frequently moves down). This usually happens due to the fact that institutional investors do not work on weekends thereby leaving the market unattended. Therefore, it's easier to move the price using small volumes on these days."
   ]
  },
  {
   "cell_type": "markdown",
   "id": "22fe7756",
   "metadata": {},
   "source": [
    "### Summing up"
   ]
  },
  {
   "cell_type": "markdown",
   "id": "7b8e0968",
   "metadata": {},
   "source": [
    "In summary, by doing descriptive statistics, creating charts and comparing data we could understand that Bitcoin is a highly volatile and risky asset even in a long timeframe. Also, we were able to make sure that Bitcoin is a speculative instrument and its price frequently depends on institutional investors and market makers. Nevertheless, despite its riskiness, values of volumes showed that people keep storing their bitcoins for constantly buying this currency."
   ]
  },
  {
   "cell_type": "markdown",
   "id": "41453d7f",
   "metadata": {},
   "source": [
    "                                                                                                Timofey Piskarev 212-1"
   ]
  }
 ],
 "metadata": {
  "kernelspec": {
   "display_name": "Python 3 (ipykernel)",
   "language": "python",
   "name": "python3"
  },
  "language_info": {
   "codemirror_mode": {
    "name": "ipython",
    "version": 3
   },
   "file_extension": ".py",
   "mimetype": "text/x-python",
   "name": "python",
   "nbconvert_exporter": "python",
   "pygments_lexer": "ipython3",
   "version": "3.10.1"
  }
 },
 "nbformat": 4,
 "nbformat_minor": 5
}
